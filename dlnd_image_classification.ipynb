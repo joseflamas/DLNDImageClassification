{
 "cells": [
  {
   "cell_type": "markdown",
   "metadata": {
    "collapsed": true,
    "deletable": true,
    "editable": true
   },
   "source": [
    "# Image Classification\n",
    "In this project, you'll classify images from the [CIFAR-10 dataset](https://www.cs.toronto.edu/~kriz/cifar.html).  The dataset consists of airplanes, dogs, cats, and other objects. You'll preprocess the images, then train a convolutional neural network on all the samples. The images need to be normalized and the labels need to be one-hot encoded.  You'll get to apply what you learned and build a convolutional, max pooling, dropout, and fully connected layers.  At the end, you'll get to see your neural network's predictions on the sample images.\n",
    "## Get the Data\n",
    "Run the following cell to download the [CIFAR-10 dataset for python](https://www.cs.toronto.edu/~kriz/cifar-10-python.tar.gz)."
   ]
  },
  {
   "cell_type": "code",
   "execution_count": 5,
   "metadata": {
    "collapsed": false,
    "deletable": true,
    "editable": true
   },
   "outputs": [
    {
     "name": "stdout",
     "output_type": "stream",
     "text": [
      "All files found!\n"
     ]
    }
   ],
   "source": [
    "\"\"\"\n",
    "DON'T MODIFY ANYTHING IN THIS CELL THAT IS BELOW THIS LINE\n",
    "\"\"\"\n",
    "from urllib.request import urlretrieve\n",
    "from os.path import isfile, isdir\n",
    "from tqdm import tqdm\n",
    "import problem_unittests as tests\n",
    "import tarfile\n",
    "\n",
    "cifar10_dataset_folder_path = 'cifar-10-batches-py'\n",
    "\n",
    "class DLProgress(tqdm):\n",
    "    last_block = 0\n",
    "\n",
    "    def hook(self, block_num=1, block_size=1, total_size=None):\n",
    "        self.total = total_size\n",
    "        self.update((block_num - self.last_block) * block_size)\n",
    "        self.last_block = block_num\n",
    "\n",
    "if not isfile('cifar-10-python.tar.gz'):\n",
    "    with DLProgress(unit='B', unit_scale=True, miniters=1, desc='CIFAR-10 Dataset') as pbar:\n",
    "        urlretrieve(\n",
    "            'https://www.cs.toronto.edu/~kriz/cifar-10-python.tar.gz',\n",
    "            'cifar-10-python.tar.gz',\n",
    "            pbar.hook)\n",
    "\n",
    "if not isdir(cifar10_dataset_folder_path):\n",
    "    with tarfile.open('cifar-10-python.tar.gz') as tar:\n",
    "        tar.extractall()\n",
    "        tar.close()\n",
    "\n",
    "\n",
    "tests.test_folder_path(cifar10_dataset_folder_path)"
   ]
  },
  {
   "cell_type": "markdown",
   "metadata": {
    "deletable": true,
    "editable": true
   },
   "source": [
    "## Explore the Data\n",
    "The dataset is broken into batches to prevent your machine from running out of memory.  The CIFAR-10 dataset consists of 5 batches, named `data_batch_1`, `data_batch_2`, etc.. Each batch contains the labels and images that are one of the following:\n",
    "* airplane\n",
    "* automobile\n",
    "* bird\n",
    "* cat\n",
    "* deer\n",
    "* dog\n",
    "* frog\n",
    "* horse\n",
    "* ship\n",
    "* truck\n",
    "\n",
    "Understanding a dataset is part of making predictions on the data.  Play around with the code cell below by changing the `batch_id` and `sample_id`. The `batch_id` is the id for a batch (1-5). The `sample_id` is the id for a image and label pair in the batch.\n",
    "\n",
    "Ask yourself \"What are all possible labels?\", \"What is the range of values for the image data?\", \"Are the labels in order or random?\".  Answers to questions like these will help you preprocess the data and end up with better predictions."
   ]
  },
  {
   "cell_type": "code",
   "execution_count": 6,
   "metadata": {
    "collapsed": false,
    "deletable": true,
    "editable": true
   },
   "outputs": [
    {
     "name": "stdout",
     "output_type": "stream",
     "text": [
      "\n",
      "Stats of batch 5:\n",
      "Samples: 10000\n",
      "Label Counts: {0: 1014, 1: 1014, 2: 952, 3: 1016, 4: 997, 5: 1025, 6: 980, 7: 977, 8: 1003, 9: 1022}\n",
      "First 20 Labels: [1, 8, 5, 1, 5, 7, 4, 3, 8, 2, 7, 2, 0, 1, 5, 9, 6, 2, 0, 8]\n",
      "\n",
      "Example of Image 555:\n",
      "Image - Min Value: 2 Max Value: 223\n",
      "Image - Shape: (32, 32, 3)\n",
      "Label - Label Id: 5 Name: dog\n"
     ]
    },
    {
     "data": {
      "image/png": "[encoded data removed]",
      "text/plain": [
       "<matplotlib.figure.Figure at 0x12456c278>"
      ]
     },
     "metadata": {
      "image/png": {
       "height": 250,
       "width": 253
      }
     },
     "output_type": "display_data"
    }
   ],
   "source": [
    "%matplotlib inline\n",
    "%config InlineBackend.figure_format = 'retina'\n",
    "\n",
    "import helper\n",
    "import numpy as np\n",
    "\n",
    "# Explore the dataset\n",
    "batch_id = 5\n",
    "sample_id = 555\n",
    "helper.display_stats(cifar10_dataset_folder_path, batch_id, sample_id)"
   ]
  },
  {
   "cell_type": "markdown",
   "metadata": {
    "deletable": true,
    "editable": true
   },
   "source": [
    "## Implement Preprocess Functions\n",
    "### Normalize\n",
    "In the cell below, implement the `normalize` function to take in image data, `x`, and return it as a normalized Numpy array. The values should be in the range of 0 to 1, inclusive.  The return object should be the same shape as `x`."
   ]
  },
  {
   "cell_type": "code",
   "execution_count": 7,
   "metadata": {
    "collapsed": false,
    "deletable": true,
    "editable": true
   },
   "outputs": [
    {
     "name": "stdout",
     "output_type": "stream",
     "text": [
      "Tests Passed\n"
     ]
    }
   ],
   "source": [
    "def normalize(x):\n",
    "    \"\"\"\n",
    "    Normalize a list of sample image data in the range of 0 to 1\n",
    "    : x: List of image data.  The image shape is (32, 32, 3)\n",
    "    : return: Numpy array of normalize data\n",
    "    \"\"\"\n",
    "    # TODO: Implement Function\n",
    "    return np.array(x/255)\n",
    "\n",
    "\n",
    "\"\"\"\n",
    "DON'T MODIFY ANYTHING IN THIS CELL THAT IS BELOW THIS LINE\n",
    "\"\"\"\n",
    "tests.test_normalize(normalize)"
   ]
  },
  {
   "cell_type": "markdown",
   "metadata": {
    "deletable": true,
    "editable": true
   },
   "source": [
    "### One-hot encode\n",
    "Just like the previous code cell, you'll be implementing a function for preprocessing.  This time, you'll implement the `one_hot_encode` function. The input, `x`, are a list of labels.  Implement the function to return the list of labels as One-Hot encoded Numpy array.  The possible values for labels are 0 to 9. The one-hot encoding function should return the same encoding for each value between each call to `one_hot_encode`.  Make sure to save the map of encodings outside the function.\n",
    "\n",
    "Hint: Don't reinvent the wheel."
   ]
  },
  {
   "cell_type": "code",
   "execution_count": 8,
   "metadata": {
    "collapsed": false,
    "deletable": true,
    "editable": true
   },
   "outputs": [
    {
     "name": "stdout",
     "output_type": "stream",
     "text": [
      "Tests Passed\n"
     ]
    }
   ],
   "source": [
    "encoding_map = {\n",
    "                  0 : np.array([1,0,0,0,0,0,0,0,0,0]),\n",
    "                  1 : np.array([0,1,0,0,0,0,0,0,0,0]),\n",
    "                  2 : np.array([0,0,1,0,0,0,0,0,0,0]),\n",
    "                  3 : np.array([0,0,0,1,0,0,0,0,0,0]),\n",
    "                  4 : np.array([0,0,0,0,1,0,0,0,0,0]),\n",
    "                  5 : np.array([0,0,0,0,0,1,0,0,0,0]),\n",
    "                  6 : np.array([0,0,0,0,0,0,1,0,0,0]),\n",
    "                  7 : np.array([0,0,0,0,0,0,0,1,0,0]),\n",
    "                  8 : np.array([0,0,0,0,0,0,0,0,1,0]),\n",
    "                  9 : np.array([0,0,0,0,0,0,0,0,0,1])\n",
    "               }\n",
    "\n",
    "def one_hot_encode(x):\n",
    "    \"\"\"\n",
    "    One hot encode a list of sample labels. Return a one-hot encoded vector for each label.\n",
    "    : x: List of sample Labels\n",
    "    : return: Numpy array of one-hot encoded labels\n",
    "    \"\"\"\n",
    "    # TODO: Implement Function\n",
    "    encoding = []\n",
    "    for i in x:\n",
    "        encoding.append( encoding_map[i] )\n",
    "#     print(x[0])\n",
    "#     print(encoding[0])\n",
    "    return np.array( encoding )\n",
    "\n",
    "\n",
    "\"\"\"\n",
    "DON'T MODIFY ANYTHING IN THIS CELL THAT IS BELOW THIS LINE\n",
    "\"\"\"\n",
    "tests.test_one_hot_encode(one_hot_encode)"
   ]
  },
  {
   "cell_type": "markdown",
   "metadata": {
    "deletable": true,
    "editable": true
   },
   "source": [
    "### Randomize Data\n",
    "As you saw from exploring the data above, the order of the samples are randomized.  It doesn't hurt to randomize it again, but you don't need to for this dataset."
   ]
  },
  {
   "cell_type": "markdown",
   "metadata": {
    "deletable": true,
    "editable": true
   },
   "source": [
    "## Preprocess all the data and save it\n",
    "Running the code cell below will preprocess all the CIFAR-10 data and save it to file. The code below also uses 10% of the training data for validation."
   ]
  },
  {
   "cell_type": "code",
   "execution_count": 9,
   "metadata": {
    "collapsed": false,
    "deletable": true,
    "editable": true
   },
   "outputs": [],
   "source": [
    "\"\"\"\n",
    "DON'T MODIFY ANYTHING IN THIS CELL\n",
    "\"\"\"\n",
    "# Preprocess Training, Validation, and Testing Data\n",
    "helper.preprocess_and_save_data(cifar10_dataset_folder_path, normalize, one_hot_encode)"
   ]
  },
  {
   "cell_type": "markdown",
   "metadata": {
    "deletable": true,
    "editable": true
   },
   "source": [
    "# Check Point\n",
    "This is your first checkpoint.  If you ever decide to come back to this notebook or have to restart the notebook, you can start from here.  The preprocessed data has been saved to disk."
   ]
  },
  {
   "cell_type": "code",
   "execution_count": 10,
   "metadata": {
    "collapsed": true,
    "deletable": true,
    "editable": true
   },
   "outputs": [],
   "source": [
    "\"\"\"\n",
    "DON'T MODIFY ANYTHING IN THIS CELL\n",
    "\"\"\"\n",
    "import pickle\n",
    "import problem_unittests as tests\n",
    "import helper\n",
    "\n",
    "# Load the Preprocessed Validation data\n",
    "valid_features, valid_labels = pickle.load(open('preprocess_validation.p', mode='rb'))"
   ]
  },
  {
   "cell_type": "markdown",
   "metadata": {
    "deletable": true,
    "editable": true
   },
   "source": [
    "## Build the network\n",
    "For the neural network, you'll build each layer into a function.  Most of the code you've seen has been outside of functions. To test your code more thoroughly, we require that you put each layer in a function.  This allows us to give you better feedback and test for simple mistakes using our unittests before you submit your project.\n",
    "\n",
    ">**Note:** If you're finding it hard to dedicate enough time for this course each week, we've provided a small shortcut to this part of the project. In the next couple of problems, you'll have the option to use classes from the [TensorFlow Layers](https://www.tensorflow.org/api_docs/python/tf/layers) or [TensorFlow Layers (contrib)](https://www.tensorflow.org/api_guides/python/contrib.layers) packages to build each layer, except the layers you build in the \"Convolutional and Max Pooling Layer\" section.  TF Layers is similar to Keras's and TFLearn's abstraction to layers, so it's easy to pickup.\n",
    "\n",
    ">However, if you would like to get the most out of this course, try to solve all the problems _without_ using anything from the TF Layers packages. You **can** still use classes from other packages that happen to have the same name as ones you find in TF Layers! For example, instead of using the TF Layers version of the `conv2d` class, [tf.layers.conv2d](https://www.tensorflow.org/api_docs/python/tf/layers/conv2d), you would want to use the TF Neural Network version of `conv2d`, [tf.nn.conv2d](https://www.tensorflow.org/api_docs/python/tf/nn/conv2d). \n",
    "\n",
    "Let's begin!\n",
    "\n",
    "### Input\n",
    "The neural network needs to read the image data, one-hot encoded labels, and dropout keep probability. Implement the following functions\n",
    "* Implement `neural_net_image_input`\n",
    " * Return a [TF Placeholder](https://www.tensorflow.org/api_docs/python/tf/placeholder)\n",
    " * Set the shape using `image_shape` with batch size set to `None`.\n",
    " * Name the TensorFlow placeholder \"x\" using the TensorFlow `name` parameter in the [TF Placeholder](https://www.tensorflow.org/api_docs/python/tf/placeholder).\n",
    "* Implement `neural_net_label_input`\n",
    " * Return a [TF Placeholder](https://www.tensorflow.org/api_docs/python/tf/placeholder)\n",
    " * Set the shape using `n_classes` with batch size set to `None`.\n",
    " * Name the TensorFlow placeholder \"y\" using the TensorFlow `name` parameter in the [TF Placeholder](https://www.tensorflow.org/api_docs/python/tf/placeholder).\n",
    "* Implement `neural_net_keep_prob_input`\n",
    " * Return a [TF Placeholder](https://www.tensorflow.org/api_docs/python/tf/placeholder) for dropout keep probability.\n",
    " * Name the TensorFlow placeholder \"keep_prob\" using the TensorFlow `name` parameter in the [TF Placeholder](https://www.tensorflow.org/api_docs/python/tf/placeholder).\n",
    "\n",
    "These names will be used at the end of the project to load your saved model.\n",
    "\n",
    "Note: `None` for shapes in TensorFlow allow for a dynamic size."
   ]
  },
  {
   "cell_type": "code",
   "execution_count": 11,
   "metadata": {
    "collapsed": false,
    "deletable": true,
    "editable": true
   },
   "outputs": [
    {
     "name": "stdout",
     "output_type": "stream",
     "text": [
      "Image Input Tests Passed.\n",
      "Label Input Tests Passed.\n",
      "Keep Prob Tests Passed.\n"
     ]
    }
   ],
   "source": [
    "import tensorflow as tf\n",
    "\n",
    "def neural_net_image_input(image_shape):\n",
    "    \"\"\"\n",
    "    Return a Tensor for a batch of image input\n",
    "    : image_shape: Shape of the images\n",
    "    : return: Tensor for image input.\n",
    "    \"\"\"\n",
    "    # TODO: Implement Function\n",
    "#     print(image_shape)\n",
    "    x = tf.placeholder( tf.float32, [ None, image_shape[0], image_shape[1], image_shape[2] ], name='x' )\n",
    "    return x\n",
    "\n",
    "\n",
    "def neural_net_label_input(n_classes):\n",
    "    \"\"\"\n",
    "    Return a Tensor for a batch of label input\n",
    "    : n_classes: Number of classes\n",
    "    : return: Tensor for label input.\n",
    "    \"\"\"\n",
    "    # TODO: Implement Function\n",
    "    y = tf.placeholder( tf.float32, [ None, n_classes ], name='y' )\n",
    "    return y\n",
    "\n",
    "\n",
    "def neural_net_keep_prob_input():\n",
    "    \"\"\"\n",
    "    Return a Tensor for keep probability\n",
    "    : return: Tensor for keep probability.\n",
    "    \"\"\"\n",
    "    # TODO: Implement Function\n",
    "    keep_prob = tf.placeholder( tf.float32, name='keep_prob' )\n",
    "    return keep_prob\n",
    "\n",
    "\n",
    "\n",
    "\"\"\"\n",
    "DON'T MODIFY ANYTHING IN THIS CELL THAT IS BELOW THIS LINE\n",
    "\"\"\"\n",
    "tf.reset_default_graph()\n",
    "tests.test_nn_image_inputs(neural_net_image_input)\n",
    "tests.test_nn_label_inputs(neural_net_label_input)\n",
    "tests.test_nn_keep_prob_inputs(neural_net_keep_prob_input)"
   ]
  },
  {
   "cell_type": "markdown",
   "metadata": {
    "deletable": true,
    "editable": true
   },
   "source": [
    "### Convolution and Max Pooling Layer\n",
    "Convolution layers have a lot of success with images. For this code cell, you should implement the function `conv2d_maxpool` to apply convolution then max pooling:\n",
    "* Create the weight and bias using `conv_ksize`, `conv_num_outputs` and the shape of `x_tensor`.\n",
    "* Apply a convolution to `x_tensor` using weight and `conv_strides`.\n",
    " * We recommend you use same padding, but you're welcome to use any padding.\n",
    "* Add bias\n",
    "* Add a nonlinear activation to the convolution.\n",
    "* Apply Max Pooling using `pool_ksize` and `pool_strides`.\n",
    " * We recommend you use same padding, but you're welcome to use any padding.\n",
    "\n",
    "**Note:** You **can't** use [TensorFlow Layers](https://www.tensorflow.org/api_docs/python/tf/layers) or [TensorFlow Layers (contrib)](https://www.tensorflow.org/api_guides/python/contrib.layers) for **this** layer, but you can still use TensorFlow's [Neural Network](https://www.tensorflow.org/api_docs/python/tf/nn) package. You may still use the shortcut option for all the **other** layers."
   ]
  },
  {
   "cell_type": "code",
   "execution_count": 12,
   "metadata": {
    "collapsed": false,
    "deletable": true,
    "editable": true
   },
   "outputs": [
    {
     "name": "stdout",
     "output_type": "stream",
     "text": [
      "Tests Passed\n"
     ]
    }
   ],
   "source": [
    "def conv2d_maxpool(x_tensor, conv_num_outputs, conv_ksize, conv_strides, pool_ksize, pool_strides):\n",
    "    \"\"\"\n",
    "    Apply convolution then max pooling to x_tensor\n",
    "    :param x_tensor: TensorFlow Tensor\n",
    "    :param conv_num_outputs: Number of outputs for the convolutional layer\n",
    "    :param conv_strides: Stride 2-D Tuple for convolution\n",
    "    :param pool_ksize: kernal size 2-D Tuple for pool\n",
    "    :param pool_strides: Stride 2-D Tuple for pool\n",
    "    : return: A tensor that represents convolution and max pooling of x_tensor\n",
    "    \"\"\"\n",
    "    # TODO: Implement Function\n",
    "    \n",
    "    padding_type  = 'SAME'\n",
    "    tensor_shape  = x_tensor.get_shape().as_list()\n",
    "    \n",
    "    # Weights & Biases\n",
    "    weights = tf.Variable( tf.truncated_normal( [ conv_ksize[0],\n",
    "                                                  conv_ksize[1],\n",
    "                                                  tensor_shape[-1],\n",
    "                                                  conv_num_outputs ],\n",
    "                                                  stddev=0.05))\n",
    "    biases  = tf.Variable( tf.zeros( [conv_num_outputs] ))\n",
    "    \n",
    "    #Convolution Layer 1\n",
    "    conv_output     = tf.nn.conv2d( x_tensor, \n",
    "                                    weights, \n",
    "                                    strides=[1, *conv_strides, 1],\n",
    "                                    padding=padding_type )\n",
    "    \n",
    "    bias_sum_output = tf.nn.bias_add( conv_output, biases )\n",
    "    conv_activation = tf.nn.relu( bias_sum_output )\n",
    "\n",
    "    # Max Pool \n",
    "    max_pool        = tf.nn.max_pool( conv_activation, \n",
    "                                      ksize=[1, *pool_ksize ,1],\n",
    "                                      strides=[1, *pool_strides, 1],\n",
    "                                      padding=padding_type )\n",
    "    \n",
    "    return max_pool\n",
    "\n",
    "\n",
    "\"\"\"\n",
    "DON'T MODIFY ANYTHING IN THIS CELL THAT IS BELOW THIS LINE\n",
    "\"\"\"\n",
    "tests.test_con_pool(conv2d_maxpool)"
   ]
  },
  {
   "cell_type": "markdown",
   "metadata": {
    "deletable": true,
    "editable": true
   },
   "source": [
    "### Flatten Layer\n",
    "Implement the `flatten` function to change the dimension of `x_tensor` from a 4-D tensor to a 2-D tensor.  The output should be the shape (*Batch Size*, *Flattened Image Size*). Shortcut option: you can use classes from the [TensorFlow Layers](https://www.tensorflow.org/api_docs/python/tf/layers) or [TensorFlow Layers (contrib)](https://www.tensorflow.org/api_guides/python/contrib.layers) packages for this layer. For more of a challenge, only use other TensorFlow packages."
   ]
  },
  {
   "cell_type": "code",
   "execution_count": 13,
   "metadata": {
    "collapsed": false,
    "deletable": true,
    "editable": true
   },
   "outputs": [
    {
     "name": "stdout",
     "output_type": "stream",
     "text": [
      "Tests Passed\n"
     ]
    }
   ],
   "source": [
    "def flatten(x_tensor):\n",
    "    \"\"\"\n",
    "    Flatten x_tensor to (Batch Size, Flattened Image Size)\n",
    "    : x_tensor: A tensor of size (Batch Size, ...), where ... are the image dimensions.\n",
    "    : return: A tensor of size (Batch Size, Flattened Image Size).\n",
    "    \"\"\"\n",
    "    # TODO: Implement Function\n",
    "#     print(x_tensor)\n",
    "    tensor_shape = x_tensor.get_shape().as_list()\n",
    "#     print(tensor_shape)\n",
    "    dimension    = tensor_shape[1]*tensor_shape[2]*tensor_shape[3];\n",
    "#     print(dimension)\n",
    "\n",
    "    return tf.reshape( x_tensor, [-1, ( dimension ) ] )\n",
    "\n",
    "\n",
    "\"\"\"\n",
    "DON'T MODIFY ANYTHING IN THIS CELL THAT IS BELOW THIS LINE\n",
    "\"\"\"\n",
    "tests.test_flatten(flatten)"
   ]
  },
  {
   "cell_type": "markdown",
   "metadata": {
    "deletable": true,
    "editable": true
   },
   "source": [
    "### Fully-Connected Layer\n",
    "Implement the `fully_conn` function to apply a fully connected layer to `x_tensor` with the shape (*Batch Size*, *num_outputs*). Shortcut option: you can use classes from the [TensorFlow Layers](https://www.tensorflow.org/api_docs/python/tf/layers) or [TensorFlow Layers (contrib)](https://www.tensorflow.org/api_guides/python/contrib.layers) packages for this layer. For more of a challenge, only use other TensorFlow packages."
   ]
  },
  {
   "cell_type": "code",
   "execution_count": 14,
   "metadata": {
    "collapsed": false,
    "deletable": true,
    "editable": true
   },
   "outputs": [
    {
     "name": "stdout",
     "output_type": "stream",
     "text": [
      "Tests Passed\n"
     ]
    }
   ],
   "source": [
    "def fully_conn(x_tensor, num_outputs):\n",
    "    \"\"\"\n",
    "    Apply a fully connected layer to x_tensor using weight and bias\n",
    "    : x_tensor: A 2-D tensor where the first dimension is batch size.\n",
    "    : num_outputs: The number of output that the new tensor should be.\n",
    "    : return: A 2-D tensor where the second dimension is num_outputs.\n",
    "    \"\"\"\n",
    "    # TODO: Implement Function\n",
    "#     print(x_tensor)\n",
    "#     print(num_outputs)\n",
    "#     print(x_tensor.get_shape())\n",
    "    \n",
    "    tensor_shape = x_tensor.get_shape().as_list()\n",
    "    weights = tf.Variable( tf.truncated_normal( [tensor_shape[1],\n",
    "                                                 num_outputs],\n",
    "                                                 stddev=0.05)) \n",
    "    bias    = tf.Variable( tf.zeros(num_outputs) )\n",
    "    fully_connected = tf.add( tf.matmul( x_tensor, weights ), bias )\n",
    "    activation_out  = tf.nn.relu( fully_connected )\n",
    "\n",
    "    return activation_out\n",
    "\n",
    "\n",
    "\"\"\"\n",
    "DON'T MODIFY ANYTHING IN THIS CELL THAT IS BELOW THIS LINE\n",
    "\"\"\"\n",
    "tests.test_fully_conn(fully_conn)"
   ]
  },
  {
   "cell_type": "markdown",
   "metadata": {
    "deletable": true,
    "editable": true
   },
   "source": [
    "### Output Layer\n",
    "Implement the `output` function to apply a fully connected layer to `x_tensor` with the shape (*Batch Size*, *num_outputs*). Shortcut option: you can use classes from the [TensorFlow Layers](https://www.tensorflow.org/api_docs/python/tf/layers) or [TensorFlow Layers (contrib)](https://www.tensorflow.org/api_guides/python/contrib.layers) packages for this layer. For more of a challenge, only use other TensorFlow packages.\n",
    "\n",
    "**Note:** Activation, softmax, or cross entropy should **not** be applied to this."
   ]
  },
  {
   "cell_type": "code",
   "execution_count": 15,
   "metadata": {
    "collapsed": false,
    "deletable": true,
    "editable": true
   },
   "outputs": [
    {
     "name": "stdout",
     "output_type": "stream",
     "text": [
      "Tests Passed\n"
     ]
    }
   ],
   "source": [
    "def output(x_tensor, num_outputs):\n",
    "    \"\"\"\n",
    "    Apply a output layer to x_tensor using weight and bias\n",
    "    : x_tensor: A 2-D tensor where the first dimension is batch size.\n",
    "    : num_outputs: The number of output that the new tensor should be.\n",
    "    : return: A 2-D tensor where the second dimension is num_outputs.\n",
    "    \"\"\"\n",
    "    # TODO: Implement Function\n",
    "    \n",
    "    tensor_shape = x_tensor.get_shape().as_list()\n",
    "    weights = tf.Variable( tf.truncated_normal( [tensor_shape[1],\n",
    "                                                 num_outputs],\n",
    "                                                 stddev=0.05\n",
    "                                                 ))\n",
    "    bias    = tf.Variable( tf.zeros(num_outputs) )\n",
    "    fully_connected = tf.add( tf.matmul( x_tensor, weights ), bias )\n",
    "    \n",
    "    return fully_connected\n",
    "\n",
    "\n",
    "\"\"\"\n",
    "DON'T MODIFY ANYTHING IN THIS CELL THAT IS BELOW THIS LINE\n",
    "\"\"\"\n",
    "tests.test_output(output)"
   ]
  },
  {
   "cell_type": "markdown",
   "metadata": {
    "deletable": true,
    "editable": true
   },
   "source": [
    "### Create Convolutional Model\n",
    "Implement the function `conv_net` to create a convolutional neural network model. The function takes in a batch of images, `x`, and outputs logits.  Use the layers you created above to create this model:\n",
    "\n",
    "* Apply 1, 2, or 3 Convolution and Max Pool layers\n",
    "* Apply a Flatten Layer\n",
    "* Apply 1, 2, or 3 Fully Connected Layers\n",
    "* Apply an Output Layer\n",
    "* Return the output\n",
    "* Apply [TensorFlow's Dropout](https://www.tensorflow.org/api_docs/python/tf/nn/dropout) to one or more layers in the model using `keep_prob`. "
   ]
  },
  {
   "cell_type": "code",
   "execution_count": 16,
   "metadata": {
    "collapsed": false,
    "deletable": true,
    "editable": true
   },
   "outputs": [
    {
     "name": "stdout",
     "output_type": "stream",
     "text": [
      "Neural Network Built!\n"
     ]
    }
   ],
   "source": [
    "def conv_net(x, keep_prob):\n",
    "    \"\"\"\n",
    "    Create a convolutional neural network model\n",
    "    : x: Placeholder tensor that holds image data.\n",
    "    : keep_prob: Placeholder tensor that hold dropout keep probability.\n",
    "    : return: Tensor that represents logits\n",
    "    \"\"\"\n",
    "    # TODO: Apply 1, 2, or 3 Convolution and Max Pool layers\n",
    "    #    Play around with different number of outputs, kernel size and stride\n",
    "    # Function Definition from Above:\n",
    "    #    conv2d_maxpool(x_tensor, conv_num_outputs, conv_ksize, conv_strides, pool_ksize, pool_strides)\n",
    "\n",
    "    conv1 = conv2d_maxpool(x,       32, (8,8), (1,1), (2,2), (2,2))\n",
    "    conv2 = conv2d_maxpool(conv1,   64, (4,4), (1,1), (2,2), (2,2))\n",
    "    conv3 = conv2d_maxpool(conv2,  128, (2,2), (1,1), (2,2), (2,2))\n",
    "    \n",
    "    # TODO: Apply a Flatten Layer\n",
    "    # Function Definition from Above:\n",
    "    #   flatten(x_tensor)\n",
    "    \n",
    "    flat  = flatten(conv3)\n",
    "    \n",
    "    # TODO: Apply 1, 2, or 3 Fully Connected Layers\n",
    "    #    Play around with different number of outputs\n",
    "    # Function Definition from Above:\n",
    "    #   fully_conn(x_tensor, num_outputs)\n",
    "    \n",
    "    full1 = fully_conn(flat, 256)\n",
    "    full2 = tf.nn.dropout(fully_conn(full1, 512), keep_prob)    \n",
    "\n",
    "    # TODO: Apply an Output Layer\n",
    "    #    Set this to the number of classes\n",
    "    # Function Definition from Above:\n",
    "    #   output(x_tensor, num_outputs)\n",
    "    \n",
    "    out   = tf.nn.dropout(output(full2, 10), keep_prob)\n",
    "\n",
    "    # TODO: return output\n",
    "    return out\n",
    "\n",
    "\n",
    "\"\"\"\n",
    "DON'T MODIFY ANYTHING IN THIS CELL THAT IS BELOW THIS LINE\n",
    "\"\"\"\n",
    "\n",
    "##############################\n",
    "## Build the Neural Network ##\n",
    "##############################\n",
    "\n",
    "# Remove previous weights, bias, inputs, etc..\n",
    "tf.reset_default_graph()\n",
    "\n",
    "# Inputs\n",
    "x = neural_net_image_input((32, 32, 3))\n",
    "y = neural_net_label_input(10)\n",
    "keep_prob = neural_net_keep_prob_input()\n",
    "\n",
    "# Model\n",
    "logits = conv_net(x, keep_prob)\n",
    "\n",
    "# Name logits Tensor, so that is can be loaded from disk after training\n",
    "logits = tf.identity(logits, name='logits')\n",
    "\n",
    "# Loss and Optimizer\n",
    "cost = tf.reduce_mean(tf.nn.softmax_cross_entropy_with_logits(logits=logits, labels=y))\n",
    "optimizer = tf.train.AdamOptimizer().minimize(cost)\n",
    "\n",
    "# Accuracy\n",
    "correct_pred = tf.equal(tf.argmax(logits, 1), tf.argmax(y, 1))\n",
    "accuracy = tf.reduce_mean(tf.cast(correct_pred, tf.float32), name='accuracy')\n",
    "\n",
    "tests.test_conv_net(conv_net)"
   ]
  },
  {
   "cell_type": "markdown",
   "metadata": {
    "deletable": true,
    "editable": true
   },
   "source": [
    "## Train the Neural Network\n",
    "### Single Optimization\n",
    "Implement the function `train_neural_network` to do a single optimization.  The optimization should use `optimizer` to optimize in `session` with a `feed_dict` of the following:\n",
    "* `x` for image input\n",
    "* `y` for labels\n",
    "* `keep_prob` for keep probability for dropout\n",
    "\n",
    "This function will be called for each batch, so `tf.global_variables_initializer()` has already been called.\n",
    "\n",
    "Note: Nothing needs to be returned. This function is only optimizing the neural network."
   ]
  },
  {
   "cell_type": "code",
   "execution_count": 17,
   "metadata": {
    "collapsed": false,
    "deletable": true,
    "editable": true
   },
   "outputs": [
    {
     "name": "stdout",
     "output_type": "stream",
     "text": [
      "Tests Passed\n"
     ]
    }
   ],
   "source": [
    "def train_neural_network(session, optimizer, keep_probability, feature_batch, label_batch):\n",
    "    \"\"\"\n",
    "    Optimize the session on a batch of images and labels\n",
    "    : session: Current TensorFlow session\n",
    "    : optimizer: TensorFlow optimizer function\n",
    "    : keep_probability: keep probability\n",
    "    : feature_batch: Batch of Numpy image data\n",
    "    : label_batch: Batch of Numpy label data\n",
    "    \"\"\"\n",
    "    # TODO: Implement Function\n",
    "    session.run( optimizer, feed_dict={ x: feature_batch , y: label_batch , keep_prob: keep_probability }  )\n",
    "    \n",
    "    pass\n",
    "\n",
    "\n",
    "\"\"\"\n",
    "DON'T MODIFY ANYTHING IN THIS CELL THAT IS BELOW THIS LINE\n",
    "\"\"\"\n",
    "tests.test_train_nn(train_neural_network)"
   ]
  },
  {
   "cell_type": "markdown",
   "metadata": {
    "deletable": true,
    "editable": true
   },
   "source": [
    "### Show Stats\n",
    "Implement the function `print_stats` to print loss and validation accuracy.  Use the global variables `valid_features` and `valid_labels` to calculate validation accuracy.  Use a keep probability of `1.0` to calculate the loss and validation accuracy."
   ]
  },
  {
   "cell_type": "code",
   "execution_count": 18,
   "metadata": {
    "collapsed": false,
    "deletable": true,
    "editable": true
   },
   "outputs": [],
   "source": [
    "def print_stats(session, feature_batch, label_batch, cost, accuracy):\n",
    "    \"\"\"\n",
    "    Print information about loss and validation accuracy\n",
    "    : session: Current TensorFlow session\n",
    "    : feature_batch: Batch of Numpy image data\n",
    "    : label_batch: Batch of Numpy label data\n",
    "    : cost: TensorFlow cost function\n",
    "    : accuracy: TensorFlow accuracy function\n",
    "    \"\"\"\n",
    "    # TODO: Implement Function\n",
    "    loss   = session.run( cost,     feed_dict={ x: feature_batch, y: label_batch, keep_prob: 1.0 })\n",
    "    t_accu = session.run( accuracy, feed_dict={ x: feature_batch, y: label_batch, keep_prob: 1.0})\n",
    "    accu   = session.run( accuracy, feed_dict={ x: valid_features, y: valid_labels, keep_prob: 1.0})\n",
    "    # Verbose\n",
    "    print( 'Loss: {:>5.4f} :: Train Accu: {:.4f} :: Validation Acc: {:.4f}'.format( loss, t_accu, accu) )\n",
    "    \n",
    "    pass"
   ]
  },
  {
   "cell_type": "markdown",
   "metadata": {
    "deletable": true,
    "editable": true
   },
   "source": [
    "### Hyperparameters\n",
    "Tune the following parameters:\n",
    "* Set `epochs` to the number of iterations until the network stops learning or start overfitting\n",
    "* Set `batch_size` to the highest number that your machine has memory for.  Most people set them to common sizes of memory:\n",
    " * 64\n",
    " * 128\n",
    " * 256\n",
    " * ...\n",
    "* Set `keep_probability` to the probability of keeping a node using dropout"
   ]
  },
  {
   "cell_type": "code",
   "execution_count": 19,
   "metadata": {
    "collapsed": true,
    "deletable": true,
    "editable": true
   },
   "outputs": [],
   "source": [
    "# TODO: Tune Parameters\n",
    "epochs = 20\n",
    "batch_size = 512\n",
    "keep_probability = 0.5"
   ]
  },
  {
   "cell_type": "markdown",
   "metadata": {
    "deletable": true,
    "editable": true
   },
   "source": [
    "### Train on a Single CIFAR-10 Batch\n",
    "Instead of training the neural network on all the CIFAR-10 batches of data, let's use a single batch. This should save time while you iterate on the model to get a better accuracy.  Once the final validation accuracy is 50% or greater, run the model on all the data in the next section."
   ]
  },
  {
   "cell_type": "code",
   "execution_count": 20,
   "metadata": {
    "collapsed": false,
    "deletable": true,
    "editable": true
   },
   "outputs": [
    {
     "name": "stdout",
     "output_type": "stream",
     "text": [
      "Checking the Training on a Single Batch...\n",
      "Epoch  1, CIFAR-10 Batch 1: Loss: 2.0976 :: Train Accu: 0.2736 :: Validation Acc: 0.2664\n",
      "Epoch  2, CIFAR-10 Batch 1: Loss: 1.9641 :: Train Accu: 0.3074 :: Validation Acc: 0.3020\n",
      "Epoch  3, CIFAR-10 Batch 1: Loss: 1.9394 :: Train Accu: 0.3345 :: Validation Acc: 0.3610\n",
      "Epoch  4, CIFAR-10 Batch 1: Loss: 1.7915 :: Train Accu: 0.4122 :: Validation Acc: 0.4046\n",
      "Epoch  5, CIFAR-10 Batch 1: Loss: 1.7720 :: Train Accu: 0.4358 :: Validation Acc: 0.4150\n",
      "Epoch  6, CIFAR-10 Batch 1: Loss: 1.7365 :: Train Accu: 0.4426 :: Validation Acc: 0.4416\n",
      "Epoch  7, CIFAR-10 Batch 1: Loss: 1.6177 :: Train Accu: 0.5068 :: Validation Acc: 0.4532\n",
      "Epoch  8, CIFAR-10 Batch 1: Loss: 1.5944 :: Train Accu: 0.4831 :: Validation Acc: 0.4552\n",
      "Epoch  9, CIFAR-10 Batch 1: Loss: 1.5351 :: Train Accu: 0.5270 :: Validation Acc: 0.4762\n",
      "Epoch 10, CIFAR-10 Batch 1: Loss: 1.4248 :: Train Accu: 0.5439 :: Validation Acc: 0.4974\n",
      "Epoch 11, CIFAR-10 Batch 1: Loss: 1.4187 :: Train Accu: 0.5574 :: Validation Acc: 0.5018\n",
      "Epoch 12, CIFAR-10 Batch 1: Loss: 1.3663 :: Train Accu: 0.5642 :: Validation Acc: 0.5002\n",
      "Epoch 13, CIFAR-10 Batch 1: Loss: 1.3567 :: Train Accu: 0.5980 :: Validation Acc: 0.5044\n",
      "Epoch 14, CIFAR-10 Batch 1: Loss: 1.2730 :: Train Accu: 0.6554 :: Validation Acc: 0.5072\n",
      "Epoch 15, CIFAR-10 Batch 1: Loss: 1.1841 :: Train Accu: 0.6689 :: Validation Acc: 0.5344\n",
      "Epoch 16, CIFAR-10 Batch 1: Loss: 1.1152 :: Train Accu: 0.6824 :: Validation Acc: 0.5504\n",
      "Epoch 17, CIFAR-10 Batch 1: Loss: 1.0223 :: Train Accu: 0.7128 :: Validation Acc: 0.5530\n",
      "Epoch 18, CIFAR-10 Batch 1: Loss: 0.9666 :: Train Accu: 0.7365 :: Validation Acc: 0.5564\n",
      "Epoch 19, CIFAR-10 Batch 1: Loss: 0.9415 :: Train Accu: 0.7736 :: Validation Acc: 0.5552\n",
      "Epoch 20, CIFAR-10 Batch 1: Loss: 1.0132 :: Train Accu: 0.7196 :: Validation Acc: 0.5412\n"
     ]
    }
   ],
   "source": [
    "\"\"\"\n",
    "DON'T MODIFY ANYTHING IN THIS CELL\n",
    "\"\"\"\n",
    "print('Checking the Training on a Single Batch...')\n",
    "with tf.Session() as sess:\n",
    "    # Initializing the variables\n",
    "    sess.run(tf.global_variables_initializer())\n",
    "    \n",
    "    # Training cycle\n",
    "    for epoch in range(epochs):\n",
    "        batch_i = 1\n",
    "        for batch_features, batch_labels in helper.load_preprocess_training_batch(batch_i, batch_size):\n",
    "            train_neural_network(sess, optimizer, keep_probability, batch_features, batch_labels)\n",
    "        print('Epoch {:>2}, CIFAR-10 Batch {}: '.format(epoch + 1, batch_i), end='')\n",
    "        print_stats(sess, batch_features, batch_labels, cost, accuracy)"
   ]
  },
  {
   "cell_type": "markdown",
   "metadata": {
    "deletable": true,
    "editable": true
   },
   "source": [
    "### Fully Train the Model\n",
    "Now that you got a good accuracy with a single CIFAR-10 batch, try it with all five batches."
   ]
  },
  {
   "cell_type": "code",
   "execution_count": 21,
   "metadata": {
    "collapsed": false,
    "deletable": true,
    "editable": true
   },
   "outputs": [
    {
     "name": "stdout",
     "output_type": "stream",
     "text": [
      "Training...\n",
      "Epoch  1, CIFAR-10 Batch 1:  Loss: 2.1992 :: Train Accu: 0.1689 :: Validation Acc: 0.2230\n",
      "Epoch  1, CIFAR-10 Batch 2:  Loss: 1.9085 :: Train Accu: 0.3750 :: Validation Acc: 0.3374\n",
      "Epoch  1, CIFAR-10 Batch 3:  Loss: 1.8761 :: Train Accu: 0.3784 :: Validation Acc: 0.3590\n",
      "Epoch  1, CIFAR-10 Batch 4:  Loss: 1.7653 :: Train Accu: 0.4358 :: Validation Acc: 0.4146\n",
      "Epoch  1, CIFAR-10 Batch 5:  Loss: 1.6988 :: Train Accu: 0.4595 :: Validation Acc: 0.4346\n",
      "Epoch  2, CIFAR-10 Batch 1:  Loss: 1.7624 :: Train Accu: 0.3750 :: Validation Acc: 0.4160\n",
      "Epoch  2, CIFAR-10 Batch 2:  Loss: 1.6436 :: Train Accu: 0.4257 :: Validation Acc: 0.4192\n",
      "Epoch  2, CIFAR-10 Batch 3:  Loss: 1.5703 :: Train Accu: 0.4764 :: Validation Acc: 0.4548\n",
      "Epoch  2, CIFAR-10 Batch 4:  Loss: 1.4845 :: Train Accu: 0.5169 :: Validation Acc: 0.4740\n",
      "Epoch  2, CIFAR-10 Batch 5:  Loss: 1.4753 :: Train Accu: 0.5372 :: Validation Acc: 0.5048\n",
      "Epoch  3, CIFAR-10 Batch 1:  Loss: 1.5789 :: Train Accu: 0.5068 :: Validation Acc: 0.5142\n",
      "Epoch  3, CIFAR-10 Batch 2:  Loss: 1.4475 :: Train Accu: 0.5439 :: Validation Acc: 0.5182\n",
      "Epoch  3, CIFAR-10 Batch 3:  Loss: 1.4016 :: Train Accu: 0.5574 :: Validation Acc: 0.5288\n",
      "Epoch  3, CIFAR-10 Batch 4:  Loss: 1.3067 :: Train Accu: 0.5845 :: Validation Acc: 0.5444\n",
      "Epoch  3, CIFAR-10 Batch 5:  Loss: 1.3195 :: Train Accu: 0.5777 :: Validation Acc: 0.5438\n",
      "Epoch  4, CIFAR-10 Batch 1:  Loss: 1.4176 :: Train Accu: 0.5642 :: Validation Acc: 0.5482\n",
      "Epoch  4, CIFAR-10 Batch 2:  Loss: 1.2817 :: Train Accu: 0.5709 :: Validation Acc: 0.5610\n",
      "Epoch  4, CIFAR-10 Batch 3:  Loss: 1.3335 :: Train Accu: 0.5912 :: Validation Acc: 0.5570\n",
      "Epoch  4, CIFAR-10 Batch 4:  Loss: 1.2004 :: Train Accu: 0.6284 :: Validation Acc: 0.5744\n",
      "Epoch  4, CIFAR-10 Batch 5:  Loss: 1.2440 :: Train Accu: 0.6284 :: Validation Acc: 0.5800\n",
      "Epoch  5, CIFAR-10 Batch 1:  Loss: 1.2868 :: Train Accu: 0.5980 :: Validation Acc: 0.5922\n",
      "Epoch  5, CIFAR-10 Batch 2:  Loss: 1.1785 :: Train Accu: 0.6588 :: Validation Acc: 0.5902\n",
      "Epoch  5, CIFAR-10 Batch 3:  Loss: 1.1664 :: Train Accu: 0.6351 :: Validation Acc: 0.5842\n",
      "Epoch  5, CIFAR-10 Batch 4:  Loss: 1.1047 :: Train Accu: 0.6723 :: Validation Acc: 0.6082\n",
      "Epoch  5, CIFAR-10 Batch 5:  Loss: 1.1281 :: Train Accu: 0.6351 :: Validation Acc: 0.6000\n",
      "Epoch  6, CIFAR-10 Batch 1:  Loss: 1.1762 :: Train Accu: 0.6486 :: Validation Acc: 0.6080\n",
      "Epoch  6, CIFAR-10 Batch 2:  Loss: 1.1401 :: Train Accu: 0.6419 :: Validation Acc: 0.6218\n",
      "Epoch  6, CIFAR-10 Batch 3:  Loss: 1.0744 :: Train Accu: 0.6689 :: Validation Acc: 0.5958\n",
      "Epoch  6, CIFAR-10 Batch 4:  Loss: 1.0137 :: Train Accu: 0.6926 :: Validation Acc: 0.6300\n",
      "Epoch  6, CIFAR-10 Batch 5:  Loss: 1.0550 :: Train Accu: 0.6588 :: Validation Acc: 0.6124\n",
      "Epoch  7, CIFAR-10 Batch 1:  Loss: 1.0792 :: Train Accu: 0.6993 :: Validation Acc: 0.6356\n",
      "Epoch  7, CIFAR-10 Batch 2:  Loss: 1.0416 :: Train Accu: 0.7061 :: Validation Acc: 0.6256\n",
      "Epoch  7, CIFAR-10 Batch 3:  Loss: 1.0091 :: Train Accu: 0.6824 :: Validation Acc: 0.6308\n",
      "Epoch  7, CIFAR-10 Batch 4:  Loss: 0.9058 :: Train Accu: 0.7399 :: Validation Acc: 0.6438\n",
      "Epoch  7, CIFAR-10 Batch 5:  Loss: 0.9439 :: Train Accu: 0.7264 :: Validation Acc: 0.6456\n",
      "Epoch  8, CIFAR-10 Batch 1:  Loss: 0.9935 :: Train Accu: 0.7162 :: Validation Acc: 0.6346\n",
      "Epoch  8, CIFAR-10 Batch 2:  Loss: 0.9707 :: Train Accu: 0.7399 :: Validation Acc: 0.6580\n",
      "Epoch  8, CIFAR-10 Batch 3:  Loss: 0.9209 :: Train Accu: 0.7196 :: Validation Acc: 0.6262\n",
      "Epoch  8, CIFAR-10 Batch 4:  Loss: 0.8700 :: Train Accu: 0.7669 :: Validation Acc: 0.6482\n",
      "Epoch  8, CIFAR-10 Batch 5:  Loss: 0.8593 :: Train Accu: 0.7872 :: Validation Acc: 0.6652\n",
      "Epoch  9, CIFAR-10 Batch 1:  Loss: 0.9511 :: Train Accu: 0.7297 :: Validation Acc: 0.6310\n",
      "Epoch  9, CIFAR-10 Batch 2:  Loss: 0.9038 :: Train Accu: 0.7399 :: Validation Acc: 0.6532\n",
      "Epoch  9, CIFAR-10 Batch 3:  Loss: 0.8649 :: Train Accu: 0.7331 :: Validation Acc: 0.6460\n",
      "Epoch  9, CIFAR-10 Batch 4:  Loss: 0.8135 :: Train Accu: 0.7703 :: Validation Acc: 0.6606\n",
      "Epoch  9, CIFAR-10 Batch 5:  Loss: 0.8897 :: Train Accu: 0.7500 :: Validation Acc: 0.6416\n",
      "Epoch 10, CIFAR-10 Batch 1:  Loss: 0.8576 :: Train Accu: 0.7736 :: Validation Acc: 0.6590\n",
      "Epoch 10, CIFAR-10 Batch 2:  Loss: 0.8759 :: Train Accu: 0.7601 :: Validation Acc: 0.6506\n",
      "Epoch 10, CIFAR-10 Batch 3:  Loss: 0.8226 :: Train Accu: 0.7905 :: Validation Acc: 0.6552\n",
      "Epoch 10, CIFAR-10 Batch 4:  Loss: 0.7572 :: Train Accu: 0.7736 :: Validation Acc: 0.6594\n",
      "Epoch 10, CIFAR-10 Batch 5:  Loss: 0.7885 :: Train Accu: 0.7973 :: Validation Acc: 0.6610\n",
      "Epoch 11, CIFAR-10 Batch 1:  Loss: 0.8425 :: Train Accu: 0.7601 :: Validation Acc: 0.6600\n",
      "Epoch 11, CIFAR-10 Batch 2:  Loss: 0.8332 :: Train Accu: 0.7568 :: Validation Acc: 0.6568\n",
      "Epoch 11, CIFAR-10 Batch 3:  Loss: 0.7006 :: Train Accu: 0.8277 :: Validation Acc: 0.6804\n",
      "Epoch 11, CIFAR-10 Batch 4:  Loss: 0.7210 :: Train Accu: 0.8142 :: Validation Acc: 0.6636\n",
      "Epoch 11, CIFAR-10 Batch 5:  Loss: 0.7387 :: Train Accu: 0.8209 :: Validation Acc: 0.6708\n",
      "Epoch 12, CIFAR-10 Batch 1:  Loss: 0.7722 :: Train Accu: 0.7568 :: Validation Acc: 0.6428\n",
      "Epoch 12, CIFAR-10 Batch 2:  Loss: 0.7609 :: Train Accu: 0.7804 :: Validation Acc: 0.6552\n",
      "Epoch 12, CIFAR-10 Batch 3:  Loss: 0.6075 :: Train Accu: 0.8581 :: Validation Acc: 0.6776\n",
      "Epoch 12, CIFAR-10 Batch 4:  Loss: 0.6521 :: Train Accu: 0.8345 :: Validation Acc: 0.6668\n",
      "Epoch 12, CIFAR-10 Batch 5:  Loss: 0.7007 :: Train Accu: 0.8277 :: Validation Acc: 0.6734\n",
      "Epoch 13, CIFAR-10 Batch 1:  Loss: 0.6641 :: Train Accu: 0.8378 :: Validation Acc: 0.6688\n",
      "Epoch 13, CIFAR-10 Batch 2:  Loss: 0.6633 :: Train Accu: 0.8209 :: Validation Acc: 0.6786\n",
      "Epoch 13, CIFAR-10 Batch 3:  Loss: 0.6036 :: Train Accu: 0.8649 :: Validation Acc: 0.6814\n",
      "Epoch 13, CIFAR-10 Batch 4:  Loss: 0.6105 :: Train Accu: 0.8615 :: Validation Acc: 0.6808\n",
      "Epoch 13, CIFAR-10 Batch 5:  Loss: 0.6357 :: Train Accu: 0.8345 :: Validation Acc: 0.6774\n",
      "Epoch 14, CIFAR-10 Batch 1:  Loss: 0.6112 :: Train Accu: 0.8378 :: Validation Acc: 0.6746\n",
      "Epoch 14, CIFAR-10 Batch 2:  Loss: 0.6965 :: Train Accu: 0.8480 :: Validation Acc: 0.6792\n",
      "Epoch 14, CIFAR-10 Batch 3:  Loss: 0.6058 :: Train Accu: 0.8581 :: Validation Acc: 0.6770\n",
      "Epoch 14, CIFAR-10 Batch 4:  Loss: 0.5382 :: Train Accu: 0.8615 :: Validation Acc: 0.6908\n",
      "Epoch 14, CIFAR-10 Batch 5:  Loss: 0.5822 :: Train Accu: 0.8480 :: Validation Acc: 0.6820\n",
      "Epoch 15, CIFAR-10 Batch 1:  Loss: 0.6049 :: Train Accu: 0.8480 :: Validation Acc: 0.6868\n",
      "Epoch 15, CIFAR-10 Batch 2:  Loss: 0.5501 :: Train Accu: 0.8682 :: Validation Acc: 0.6920\n",
      "Epoch 15, CIFAR-10 Batch 3:  Loss: 0.5257 :: Train Accu: 0.8784 :: Validation Acc: 0.6960\n",
      "Epoch 15, CIFAR-10 Batch 4:  Loss: 0.5243 :: Train Accu: 0.8615 :: Validation Acc: 0.6812\n",
      "Epoch 15, CIFAR-10 Batch 5:  Loss: 0.5315 :: Train Accu: 0.8581 :: Validation Acc: 0.6804\n",
      "Epoch 16, CIFAR-10 Batch 1:  Loss: 0.5483 :: Train Accu: 0.8649 :: Validation Acc: 0.6730\n",
      "Epoch 16, CIFAR-10 Batch 2:  Loss: 0.6015 :: Train Accu: 0.8311 :: Validation Acc: 0.6918\n",
      "Epoch 16, CIFAR-10 Batch 3:  Loss: 0.4652 :: Train Accu: 0.8986 :: Validation Acc: 0.6874\n",
      "Epoch 16, CIFAR-10 Batch 4:  Loss: 0.4779 :: Train Accu: 0.8851 :: Validation Acc: 0.6890\n",
      "Epoch 16, CIFAR-10 Batch 5:  Loss: 0.5384 :: Train Accu: 0.8649 :: Validation Acc: 0.6858\n",
      "Epoch 17, CIFAR-10 Batch 1:  Loss: 0.4968 :: Train Accu: 0.8682 :: Validation Acc: 0.6792\n",
      "Epoch 17, CIFAR-10 Batch 2:  Loss: 0.5266 :: Train Accu: 0.8615 :: Validation Acc: 0.6872\n",
      "Epoch 17, CIFAR-10 Batch 3:  Loss: 0.4642 :: Train Accu: 0.9122 :: Validation Acc: 0.6996\n",
      "Epoch 17, CIFAR-10 Batch 4:  Loss: 0.4681 :: Train Accu: 0.8885 :: Validation Acc: 0.6772\n",
      "Epoch 17, CIFAR-10 Batch 5:  Loss: 0.5158 :: Train Accu: 0.8784 :: Validation Acc: 0.6728\n",
      "Epoch 18, CIFAR-10 Batch 1:  Loss: 0.4829 :: Train Accu: 0.8750 :: Validation Acc: 0.6688\n",
      "Epoch 18, CIFAR-10 Batch 2:  Loss: 0.5029 :: Train Accu: 0.8716 :: Validation Acc: 0.6870\n",
      "Epoch 18, CIFAR-10 Batch 3:  Loss: 0.4030 :: Train Accu: 0.9122 :: Validation Acc: 0.6960\n",
      "Epoch 18, CIFAR-10 Batch 4:  Loss: 0.3971 :: Train Accu: 0.9155 :: Validation Acc: 0.6894\n",
      "Epoch 18, CIFAR-10 Batch 5:  Loss: 0.4879 :: Train Accu: 0.8750 :: Validation Acc: 0.6884\n",
      "Epoch 19, CIFAR-10 Batch 1:  Loss: 0.4730 :: Train Accu: 0.8851 :: Validation Acc: 0.6766\n",
      "Epoch 19, CIFAR-10 Batch 2:  Loss: 0.4762 :: Train Accu: 0.8885 :: Validation Acc: 0.6806\n",
      "Epoch 19, CIFAR-10 Batch 3:  Loss: 0.4016 :: Train Accu: 0.8986 :: Validation Acc: 0.6854\n",
      "Epoch 19, CIFAR-10 Batch 4:  Loss: 0.3665 :: Train Accu: 0.9257 :: Validation Acc: 0.6918\n",
      "Epoch 19, CIFAR-10 Batch 5:  Loss: 0.4132 :: Train Accu: 0.9122 :: Validation Acc: 0.6878\n",
      "Epoch 20, CIFAR-10 Batch 1:  Loss: 0.4247 :: Train Accu: 0.8885 :: Validation Acc: 0.6822\n",
      "Epoch 20, CIFAR-10 Batch 2:  Loss: 0.4225 :: Train Accu: 0.9122 :: Validation Acc: 0.6896\n",
      "Epoch 20, CIFAR-10 Batch 3:  Loss: 0.3857 :: Train Accu: 0.9155 :: Validation Acc: 0.6944\n",
      "Epoch 20, CIFAR-10 Batch 4:  Loss: 0.3716 :: Train Accu: 0.9189 :: Validation Acc: 0.6886\n",
      "Epoch 20, CIFAR-10 Batch 5:  Loss: 0.3506 :: Train Accu: 0.9358 :: Validation Acc: 0.6846\n"
     ]
    }
   ],
   "source": [
    "\"\"\"\n",
    "DON'T MODIFY ANYTHING IN THIS CELL\n",
    "\"\"\"\n",
    "save_model_path = './image_classification'\n",
    "\n",
    "print('Training...')\n",
    "with tf.Session() as sess:\n",
    "    # Initializing the variables\n",
    "    sess.run(tf.global_variables_initializer())\n",
    "    \n",
    "    # Training cycle\n",
    "    for epoch in range(epochs):\n",
    "        # Loop over all batches\n",
    "        n_batches = 5\n",
    "        for batch_i in range(1, n_batches + 1):\n",
    "            for batch_features, batch_labels in helper.load_preprocess_training_batch(batch_i, batch_size):\n",
    "                train_neural_network(sess, optimizer, keep_probability, batch_features, batch_labels)\n",
    "            print('Epoch {:>2}, CIFAR-10 Batch {}:  '.format(epoch + 1, batch_i), end='')\n",
    "            print_stats(sess, batch_features, batch_labels, cost, accuracy)\n",
    "            \n",
    "    # Save Model\n",
    "    saver = tf.train.Saver()\n",
    "    save_path = saver.save(sess, save_model_path)"
   ]
  },
  {
   "cell_type": "markdown",
   "metadata": {
    "deletable": true,
    "editable": true
   },
   "source": [
    "# Checkpoint\n",
    "The model has been saved to disk.\n",
    "## Test Model\n",
    "Test your model against the test dataset.  This will be your final accuracy. You should have an accuracy greater than 50%. If you don't, keep tweaking the model architecture and parameters."
   ]
  },
  {
   "cell_type": "code",
   "execution_count": 23,
   "metadata": {
    "collapsed": false,
    "deletable": true,
    "editable": true
   },
   "outputs": [
    {
     "name": "stdout",
     "output_type": "stream",
     "text": [
      "Testing Accuracy: 0.6802159935235977\n",
      "\n"
     ]
    },
    {
     "data": {
      "image/png": "[encoded data removed]",
      "text/plain": [
       "<matplotlib.figure.Figure at 0x121fa4f98>"
      ]
     },
     "metadata": {
      "image/png": {
       "height": 319,
       "width": 355
      }
     },
     "output_type": "display_data"
    }
   ],
   "source": [
    "\"\"\"\n",
    "DON'T MODIFY ANYTHING IN THIS CELL\n",
    "\"\"\"\n",
    "%matplotlib inline\n",
    "%config InlineBackend.figure_format = 'retina'\n",
    "\n",
    "import tensorflow as tf\n",
    "import pickle\n",
    "import helper\n",
    "import random\n",
    "\n",
    "# Set batch size if not already set\n",
    "try:\n",
    "    if batch_size:\n",
    "        pass\n",
    "except NameError:\n",
    "    batch_size = 64\n",
    "\n",
    "save_model_path = './image_classification'\n",
    "n_samples = 4\n",
    "top_n_predictions = 3\n",
    "\n",
    "def test_model():\n",
    "    \"\"\"\n",
    "    Test the saved model against the test dataset\n",
    "    \"\"\"\n",
    "\n",
    "    test_features, test_labels = pickle.load(open('preprocess_training.p', mode='rb'))\n",
    "    loaded_graph = tf.Graph()\n",
    "\n",
    "    with tf.Session(graph=loaded_graph) as sess:\n",
    "        # Load model\n",
    "        loader = tf.train.import_meta_graph(save_model_path + '.meta')\n",
    "        loader.restore(sess, save_model_path)\n",
    "\n",
    "        # Get Tensors from loaded model\n",
    "        loaded_x = loaded_graph.get_tensor_by_name('x:0')\n",
    "        loaded_y = loaded_graph.get_tensor_by_name('y:0')\n",
    "        loaded_keep_prob = loaded_graph.get_tensor_by_name('keep_prob:0')\n",
    "        loaded_logits = loaded_graph.get_tensor_by_name('logits:0')\n",
    "        loaded_acc = loaded_graph.get_tensor_by_name('accuracy:0')\n",
    "        \n",
    "        # Get accuracy in batches for memory limitations\n",
    "        test_batch_acc_total = 0\n",
    "        test_batch_count = 0\n",
    "        \n",
    "        for train_feature_batch, train_label_batch in helper.batch_features_labels(test_features, test_labels, batch_size):\n",
    "            test_batch_acc_total += sess.run(\n",
    "                loaded_acc,\n",
    "                feed_dict={loaded_x: train_feature_batch, loaded_y: train_label_batch, loaded_keep_prob: 1.0})\n",
    "            test_batch_count += 1\n",
    "\n",
    "        print('Testing Accuracy: {}\\n'.format(test_batch_acc_total/test_batch_count))\n",
    "\n",
    "        # Print Random Samples\n",
    "        random_test_features, random_test_labels = tuple(zip(*random.sample(list(zip(test_features, test_labels)), n_samples)))\n",
    "        random_test_predictions = sess.run(\n",
    "            tf.nn.top_k(tf.nn.softmax(loaded_logits), top_n_predictions),\n",
    "            feed_dict={loaded_x: random_test_features, loaded_y: random_test_labels, loaded_keep_prob: 1.0})\n",
    "        helper.display_image_predictions(random_test_features, random_test_labels, random_test_predictions)\n",
    "\n",
    "\n",
    "test_model()"
   ]
  },
  {
   "cell_type": "markdown",
   "metadata": {
    "deletable": true,
    "editable": true
   },
   "source": [
    "## Why 50-80% Accuracy?\n",
    "You might be wondering why you can't get an accuracy any higher. First things first, 50% isn't bad for a simple CNN.  Pure guessing would get you 10% accuracy. However, you might notice people are getting scores [well above 80%](http://rodrigob.github.io/are_we_there_yet/build/classification_datasets_results.html#43494641522d3130).  That's because we haven't taught you all there is to know about neural networks. We still need to cover a few more techniques.\n",
    "## Submitting This Project\n",
    "When submitting this project, make sure to run all the cells before saving the notebook.  Save the notebook file as \"dlnd_image_classification.ipynb\" and save it as a HTML file under \"File\" -> \"Download as\".  Include the \"helper.py\" and \"problem_unittests.py\" files in your submission."
   ]
  }
 ],
 "metadata": {
  "anaconda-cloud": {},
  "kernelspec": {
   "display_name": "Python 3",
   "language": "python",
   "name": "python3"
  },
  "language_info": {
   "codemirror_mode": {
    "name": "ipython",
    "version": 3
   },
   "file_extension": ".py",
   "mimetype": "text/x-python",
   "name": "python",
   "nbconvert_exporter": "python",
   "pygments_lexer": "ipython3",
   "version": "3.6.0"
  }
 },
 "nbformat": 4,
 "nbformat_minor": 0
}
